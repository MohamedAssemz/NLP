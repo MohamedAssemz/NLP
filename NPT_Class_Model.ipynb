{
 "cells": [
  {
   "cell_type": "markdown",
   "metadata": {},
   "source": [
    "# Training Models"
   ]
  },
  {
   "cell_type": "code",
   "execution_count": 1,
   "metadata": {},
   "outputs": [
    {
     "name": "stdout",
     "output_type": "stream",
     "text": [
      "WARNING:tensorflow:From C:\\Users\\moham\\AppData\\Local\\Packages\\PythonSoftwareFoundation.Python.3.10_qbz5n2kfra8p0\\LocalCache\\local-packages\\Python310\\site-packages\\keras\\src\\losses.py:2976: The name tf.losses.sparse_softmax_cross_entropy is deprecated. Please use tf.compat.v1.losses.sparse_softmax_cross_entropy instead.\n",
      "\n",
      "WARNING:tensorflow:From C:\\Users\\moham\\AppData\\Local\\Packages\\PythonSoftwareFoundation.Python.3.10_qbz5n2kfra8p0\\LocalCache\\local-packages\\Python310\\site-packages\\keras\\src\\backend.py:873: The name tf.get_default_graph is deprecated. Please use tf.compat.v1.get_default_graph instead.\n",
      "\n",
      "WARNING:tensorflow:From C:\\Users\\moham\\AppData\\Local\\Packages\\PythonSoftwareFoundation.Python.3.10_qbz5n2kfra8p0\\LocalCache\\local-packages\\Python310\\site-packages\\keras\\src\\optimizers\\__init__.py:309: The name tf.train.Optimizer is deprecated. Please use tf.compat.v1.train.Optimizer instead.\n",
      "\n",
      "Epoch 1/10\n",
      "WARNING:tensorflow:From C:\\Users\\moham\\AppData\\Local\\Packages\\PythonSoftwareFoundation.Python.3.10_qbz5n2kfra8p0\\LocalCache\\local-packages\\Python310\\site-packages\\keras\\src\\utils\\tf_utils.py:492: The name tf.ragged.RaggedTensorValue is deprecated. Please use tf.compat.v1.ragged.RaggedTensorValue instead.\n",
      "\n",
      "WARNING:tensorflow:From C:\\Users\\moham\\AppData\\Local\\Packages\\PythonSoftwareFoundation.Python.3.10_qbz5n2kfra8p0\\LocalCache\\local-packages\\Python310\\site-packages\\keras\\src\\engine\\base_layer_utils.py:384: The name tf.executing_eagerly_outside_functions is deprecated. Please use tf.compat.v1.executing_eagerly_outside_functions instead.\n",
      "\n",
      "1156/1156 [==============================] - 897s 762ms/step - loss: 0.1083 - accuracy: 0.9645 - val_loss: 0.0727 - val_accuracy: 0.9786\n",
      "Epoch 2/10\n",
      "1156/1156 [==============================] - 830s 718ms/step - loss: 0.0732 - accuracy: 0.9760 - val_loss: 0.0723 - val_accuracy: 0.9781\n",
      "Epoch 3/10\n",
      "1156/1156 [==============================] - 837s 724ms/step - loss: 0.0646 - accuracy: 0.9786 - val_loss: 0.0647 - val_accuracy: 0.9764\n",
      "Epoch 4/10\n",
      "1156/1156 [==============================] - 848s 734ms/step - loss: 0.0564 - accuracy: 0.9809 - val_loss: 0.0720 - val_accuracy: 0.9754\n",
      "Epoch 5/10\n",
      "1156/1156 [==============================] - 863s 747ms/step - loss: 0.0527 - accuracy: 0.9818 - val_loss: 0.0601 - val_accuracy: 0.9779\n",
      "Epoch 6/10\n",
      "1156/1156 [==============================] - 890s 770ms/step - loss: 0.0450 - accuracy: 0.9847 - val_loss: 0.0707 - val_accuracy: 0.9737\n",
      "Epoch 7/10\n",
      "1156/1156 [==============================] - 861s 745ms/step - loss: 0.0384 - accuracy: 0.9859 - val_loss: 0.0692 - val_accuracy: 0.9774\n",
      "Epoch 8/10\n",
      "1156/1156 [==============================] - 853s 738ms/step - loss: 0.0336 - accuracy: 0.9880 - val_loss: 0.0677 - val_accuracy: 0.9747\n",
      "Epoch 9/10\n",
      "1156/1156 [==============================] - 855s 740ms/step - loss: 0.0294 - accuracy: 0.9885 - val_loss: 0.0669 - val_accuracy: 0.9757\n",
      "Epoch 10/10\n",
      "1156/1156 [==============================] - 861s 745ms/step - loss: 0.0225 - accuracy: 0.9917 - val_loss: 0.0870 - val_accuracy: 0.9764\n",
      "322/322 [==============================] - 29s 90ms/step - loss: 0.0821 - accuracy: 0.9772\n",
      "Test Accuracy: 0.9772240519523621\n"
     ]
    }
   ],
   "source": [
    "import pandas as pd\n",
    "import numpy as np\n",
    "\n",
    "from sklearn.model_selection import train_test_split\n",
    "from keras.models import Sequential\n",
    "from keras.layers import Embedding, LSTM, Dense, Bidirectional\n",
    "from keras.preprocessing.sequence import pad_sequences\n",
    "from tensorflow.keras.preprocessing.text import Tokenizer\n",
    "from sklearn.utils.class_weight import compute_class_weight\n",
    "from gensim.models import Word2Vec\n",
    "\n",
    "# Hyperparameters\n",
    "maxlen = 100\n",
    "embedding_dim = 300  # Dimensionality of Word2Vec embeddings\n",
    "lstm_units = 128\n",
    "num_lstm_layers = 2  # Number of BI-LSTM layers\n",
    "batch_size = 32\n",
    "epochs = 10\n",
    "\n",
    "class_data = pd.read_csv(\"training_dataset.csv\")\n",
    "\n",
    "# Tokenize and pad sequences\n",
    "X_title = class_data['Title_tokens'].apply(lambda x: eval(x)).values\n",
    "X_body = class_data['Body_tokens'].apply(lambda x: eval(x)).values\n",
    "X_combined = [title + body for title, body in zip(X_title, X_body)]\n",
    "\n",
    "X_train, X_test, y_train, y_test = train_test_split(X_combined, class_data['LabelNum'].values, test_size=0.2, random_state=42)\n",
    "\n",
    "class_tokenizer = Tokenizer()\n",
    "class_tokenizer.fit_on_texts(X_combined)\n",
    "\n",
    "X_train_seq = class_tokenizer.texts_to_sequences(X_train)\n",
    "X_test_seq = class_tokenizer.texts_to_sequences(X_test)\n",
    "\n",
    "X_train_pad = pad_sequences(X_train_seq, maxlen=maxlen, padding='post', truncating='post')\n",
    "X_test_pad = pad_sequences(X_test_seq, maxlen=maxlen, padding='post', truncating='post')\n",
    "\n",
    "word2vec_model = Word2Vec(sentences=X_combined, vector_size=embedding_dim, window=5, min_count=1, workers=4)\n",
    "\n",
    "# Model architecture\n",
    "class_model = Sequential()\n",
    "\n",
    "class_model.add(Embedding(input_dim=len(class_tokenizer.word_index) + 1, \n",
    "                          output_dim=embedding_dim, \n",
    "                          weights=[np.vstack([np.zeros(embedding_dim), word2vec_model.wv.vectors])], \n",
    "                          input_length=maxlen, trainable=False))\n",
    "\n",
    "for _ in range(num_lstm_layers):\n",
    "    class_model.add(Bidirectional(LSTM(units=lstm_units, dropout=0.2, recurrent_dropout=0.2, return_sequences=True)))\n",
    "\n",
    "class_model.add(Bidirectional(LSTM(units=lstm_units, dropout=0.2, recurrent_dropout=0.2)))\n",
    "\n",
    "class_model.add(Dense(1, activation='sigmoid'))\n",
    "\n",
    "class_model.compile(optimizer='adam', loss='binary_crossentropy', metrics=['accuracy'])\n",
    "\n",
    "# Compute class weights\n",
    "class_weights = compute_class_weight('balanced', classes=np.unique(y_train), y=y_train)\n",
    "class_weights_dict = {i: w for i, w in enumerate(class_weights)}\n",
    "\n",
    "# Train the model\n",
    "class_model.fit(X_train_pad, y_train, batch_size=batch_size, epochs=epochs, validation_split=0.1, class_weight=class_weights_dict)\n",
    "\n",
    "# Evaluate the model\n",
    "loss, accuracy = class_model.evaluate(X_test_pad, y_test)\n",
    "print(\"Test Accuracy:\", accuracy)"
   ]
  },
  {
   "cell_type": "code",
   "execution_count": 2,
   "metadata": {},
   "outputs": [
    {
     "name": "stdout",
     "output_type": "stream",
     "text": [
      "User input:  `pizza\n",
      "1/1 [==============================] - 4s 4s/step\n",
      "Predicted Label:  IOS\n"
     ]
    }
   ],
   "source": [
    "user_input = input(\"Enter: \")\n",
    "\n",
    "user_input_seq = class_tokenizer.texts_to_sequences([user_input])\n",
    "\n",
    "user_input_pad = pad_sequences(user_input_seq, maxlen=100, padding='post', truncating='post')\n",
    "\n",
    "print(\"User input: \", user_input)\n",
    "\n",
    "predicted_label = class_model.predict(user_input_pad)\n",
    "\n",
    "predicted_label_binary = 1 if predicted_label > 0.5 else 0\n",
    "predicted_label_st = \"Android\" if predicted_label_binary == 0 else \"IOS\"\n",
    "\n",
    "\n",
    "print(\"Predicted Label: \", predicted_label_st)"
   ]
  },
  {
   "cell_type": "code",
   "execution_count": 96,
   "metadata": {},
   "outputs": [
    {
     "name": "stdout",
     "output_type": "stream",
     "text": [
      "322/322 [==============================] - 30s 94ms/step\n"
     ]
    },
    {
     "data": {
      "image/png": "[encoded data removed]",
      "text/plain": [
       "<Figure size 800x600 with 1 Axes>"
      ]
     },
     "metadata": {},
     "output_type": "display_data"
    },
    {
     "name": "stdout",
     "output_type": "stream",
     "text": [
      "Classification Report:\n",
      "              precision    recall  f1-score   support\n",
      "\n",
      "           0       0.98      0.99      0.99      7318\n",
      "           1       0.97      0.96      0.97      2956\n",
      "\n",
      "    accuracy                           0.98     10274\n",
      "   macro avg       0.98      0.98      0.98     10274\n",
      "weighted avg       0.98      0.98      0.98     10274\n",
      "\n"
     ]
    }
   ],
   "source": [
    "from sklearn.metrics import confusion_matrix, classification_report\n",
    "import matplotlib.pyplot as plt\n",
    "import seaborn as sns\n",
    "\n",
    "predictions = class_model.predict(X_test_pad)\n",
    "y_pred = (predictions > 0.5).astype(int)\n",
    "\n",
    "cm = confusion_matrix(y_test, y_pred)\n",
    "\n",
    "plt.figure(figsize=(8, 6))\n",
    "sns.heatmap(cm, annot=True, fmt='d', cmap='Blues', cbar=False)\n",
    "plt.xlabel('Predicted labels')\n",
    "plt.ylabel('True labels')\n",
    "plt.title('Confusion Matrix')\n",
    "plt.show()\n",
    "\n",
    "# Calculate classification report\n",
    "print(\"Classification Report:\")\n",
    "print(classification_report(y_test, y_pred))\n"
   ]
  },
  {
   "cell_type": "code",
   "execution_count": 5,
   "metadata": {},
   "outputs": [
    {
     "name": "stdout",
     "output_type": "stream",
     "text": [
      "Name: 2\n"
     ]
    }
   ],
   "source": [
    "my_dict = {\n",
    "    \"x\": \"John\",\n",
    "    \"x\": 'ss',\n",
    "    \"x\": 2,\n",
    "    \"city\": \"New York\"\n",
    "}\n",
    "\n",
    "print(\"Name:\", my_dict[\"x\"])\n"
   ]
  }
 ],
 "metadata": {
  "kernelspec": {
   "display_name": "Python 3",
   "language": "python",
   "name": "python3"
  },
  "language_info": {
   "codemirror_mode": {
    "name": "ipython",
    "version": 3
   },
   "file_extension": ".py",
   "mimetype": "text/x-python",
   "name": "python",
   "nbconvert_exporter": "python",
   "pygments_lexer": "ipython3",
   "version": "3.10.11"
  }
 },
 "nbformat": 4,
 "nbformat_minor": 2
}
